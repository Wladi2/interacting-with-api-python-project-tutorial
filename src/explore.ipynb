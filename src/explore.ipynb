{
    "cells": [
        {
            "cell_type": "markdown",
            "metadata": {},
            "source": [
                "# Explore here"
            ]
        },
        {
            "cell_type": "code",
            "execution_count": 2,
            "metadata": {},
            "outputs": [],
            "source": [
                "import pandas as pd\n",
                "\n",
                "from dotenv import load_dotenv\n",
                "load_dotenv()\n",
                "\n",
                "import os\n",
                "\n",
                "client_id = os.environ.get(\"CLIENT_ID\")\n",
                "client_secret = os.environ.get(\"CLIENT_SECRET\")\n",
                "\n",
                "\n"
            ]
        },
        {
            "cell_type": "code",
            "execution_count": 5,
            "metadata": {},
            "outputs": [],
            "source": [
                "import spotipy as sp\n",
                "from spotipy.oauth2 import SpotifyClientCredentials\n",
                "\n",
                "con = spotipy.Spotify(auth_manager = SpotifyClientCredentials(client_id = client_id,\n",
                "                                                              client_secret = client_secret))"
            ]
        },
        {
            "cell_type": "code",
            "execution_count": 23,
            "metadata": {},
            "outputs": [],
            "source": [
                "artist_id = \"4q3ewBCX7sLwd24euuV69X\"\n",
                "\n",
                "response = sp.artist_top_tracks(\"4q3ewBCX7sLwd24euuV69X\")\n",
                "if response:\n",
                "  tracks = response[\"tracks\"]\n",
                "  tracks = [{k: (v/(1000*60))%60 if k == \"duration_ms\" else v for k, v in track.items() if k in [\"name\", \"popularity\", \"duration_ms\"]} for track in tracks]"
            ]
        },
        {
            "cell_type": "code",
            "execution_count": 24,
            "metadata": {},
            "outputs": [
                {
                    "name": "stdout",
                    "output_type": "stream",
                    "text": [
                        "   duration_ms              name  popularity\n",
                        "6     3.418167            DÁKITI          77\n",
                        "4     3.242717         un x100to          79\n",
                        "7     4.061933  Tití Me Preguntó          82\n"
                    ]
                }
            ],
            "source": [
                "import pandas as pd\n",
                "\n",
                "tracks_df = pd.DataFrame.from_records(tracks)\n",
                "tracks_df.sort_values([\"popularity\"], inplace = True)\n",
                "\n",
                "print(tracks_df.head(3))"
            ]
        },
        {
            "cell_type": "code",
            "execution_count": 25,
            "metadata": {},
            "outputs": [
                {
                    "data": {
                        "image/png": "[encoded data removed]",
                        "text/plain": [
                            "<Figure size 640x480 with 1 Axes>"
                        ]
                    },
                    "metadata": {},
                    "output_type": "display_data"
                }
            ],
            "source": [
                "import seaborn as sns\n",
                "\n",
                "scatter_plot = sns.scatterplot(data = tracks_df, x = \"popularity\", y = \"duration_ms\")\n",
                "fig = scatter_plot.get_figure()\n",
                "fig.savefig(\"scatter_plot.png\")"
            ]
        }
    ],
    "metadata": {
        "kernelspec": {
            "display_name": "Python 3.8.13 64-bit ('3.8.13')",
            "language": "python",
            "name": "python3"
        },
        "language_info": {
            "codemirror_mode": {
                "name": "ipython",
                "version": 3
            },
            "file_extension": ".py",
            "mimetype": "text/x-python",
            "name": "python",
            "nbconvert_exporter": "python",
            "pygments_lexer": "ipython3",
            "version": "3.11.4"
        },
        "orig_nbformat": 4,
        "vscode": {
            "interpreter": {
                "hash": "110cc1dee26208153f2972f08a2ad52b6a56238dc66d48e87fb757ef2996db56"
            }
        }
    },
    "nbformat": 4,
    "nbformat_minor": 2
}
